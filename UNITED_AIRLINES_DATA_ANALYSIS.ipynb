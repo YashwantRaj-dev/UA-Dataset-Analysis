{
  "nbformat": 4,
  "nbformat_minor": 0,
  "metadata": {
    "colab": {
      "provenance": [],
      "authorship_tag": "ABX9TyM5MBP4Hiq1RCRMOFh4Z8nS",
      "include_colab_link": true
    },
    "kernelspec": {
      "name": "python3",
      "display_name": "Python 3"
    },
    "language_info": {
      "name": "python"
    }
  },
  "cells": [
    {
      "cell_type": "markdown",
      "metadata": {
        "id": "view-in-github",
        "colab_type": "text"
      },
      "source": [
        "<a href=\"https://colab.research.google.com/github/YashwantRaj-dev/UA-Dataset-Analysis/blob/main/UNITED_AIRLINES_DATA_ANALYSIS.ipynb\" target=\"_parent\"><img src=\"https://colab.research.google.com/assets/colab-badge.svg\" alt=\"Open In Colab\"/></a>"
      ]
    },
    {
      "cell_type": "code",
      "execution_count": 49,
      "metadata": {
        "id": "22oeWJNjwg-Q"
      },
      "outputs": [],
      "source": [
        "import numpy as np\n",
        "import pandas as pd\n",
        "import matplotlib.pyplot as plt\n",
        "import seaborn as sns"
      ]
    },
    {
      "cell_type": "code",
      "source": [
        "data1 = pd.read_csv('Inflight Service_Inventory data.csv')\n",
        "data2 = pd.read_csv('Inflight Service_Pre order data.csv')\n",
        "data3 = pd.read_csv('Survey data _Customer comments.csv')\n",
        "data4 = pd.read_csv('Survey data_Inflight Satisfaction Score.csv')"
      ],
      "metadata": {
        "id": "Gr0JpH1_4PZ3"
      },
      "execution_count": 50,
      "outputs": []
    },
    {
      "cell_type": "code",
      "source": [
        "print(data1.shape)\n",
        "print(data2.shape)\n",
        "print(data3.shape)\n",
        "print(data4.shape)"
      ],
      "metadata": {
        "colab": {
          "base_uri": "https://localhost:8080/"
        },
        "id": "NaoJMEWH7Ynb",
        "outputId": "427a799c-a50d-40e7-d9cd-80c4014da7eb"
      },
      "execution_count": 51,
      "outputs": [
        {
          "output_type": "stream",
          "name": "stdout",
          "text": [
            "(61267, 9)\n",
            "(212039, 13)\n",
            "(9424, 14)\n",
            "(47074, 31)\n"
          ]
        }
      ]
    },
    {
      "cell_type": "code",
      "source": [
        "data1 = data1.dropna()\n",
        "data2 = data2.dropna()\n",
        "data3 = data3.dropna()\n",
        "data4 = data4.dropna()"
      ],
      "metadata": {
        "id": "2rPc0Nwd77PQ"
      },
      "execution_count": 52,
      "outputs": []
    },
    {
      "cell_type": "code",
      "source": [
        "print(data1.shape)\n",
        "print(data2.shape)\n",
        "print(data3.shape)\n",
        "print(data4.shape)"
      ],
      "metadata": {
        "colab": {
          "base_uri": "https://localhost:8080/"
        },
        "id": "1wuUFiC18RoR",
        "outputId": "fab60ab2-5e1c-48e3-f27f-89fad13db6e4"
      },
      "execution_count": 53,
      "outputs": [
        {
          "output_type": "stream",
          "name": "stdout",
          "text": [
            "(61267, 9)\n",
            "(137062, 13)\n",
            "(6920, 14)\n",
            "(14032, 31)\n"
          ]
        }
      ]
    },
    {
      "cell_type": "code",
      "source": [
        "data4['score'].value_counts()"
      ],
      "metadata": {
        "colab": {
          "base_uri": "https://localhost:8080/"
        },
        "id": "iWSsZwzh8qD2",
        "outputId": "30fe00d2-d984-4ff2-fe30-e2ac31064f02"
      },
      "execution_count": 54,
      "outputs": [
        {
          "output_type": "execute_result",
          "data": {
            "text/plain": [
              "2    3465\n",
              "1    2933\n",
              "3    2867\n",
              "4    2447\n",
              "5    2320\n",
              "Name: score, dtype: int64"
            ]
          },
          "metadata": {},
          "execution_count": 54
        }
      ]
    },
    {
      "cell_type": "code",
      "source": [
        "percentage_inflight_satisfaction = ((2447+2320)/(2933+3465+2867+2447+2320))*100\n",
        "print(percentage_inflight_satisfaction)"
      ],
      "metadata": {
        "colab": {
          "base_uri": "https://localhost:8080/"
        },
        "id": "4neM7-nS-EQT",
        "outputId": "62c3b9fe-587d-4e27-ec77-0011239744e7"
      },
      "execution_count": 55,
      "outputs": [
        {
          "output_type": "stream",
          "name": "stdout",
          "text": [
            "33.97234891676169\n"
          ]
        }
      ]
    },
    {
      "cell_type": "markdown",
      "source": [
        "Nearly 34% of users are satisfied with the services of the airlines.\n",
        "\n",
        "And nearly 66% of users are dissatisfied with the services of the airlines."
      ],
      "metadata": {
        "id": "htVID989-uf5"
      }
    },
    {
      "cell_type": "code",
      "source": [
        "data4.head()"
      ],
      "metadata": {
        "colab": {
          "base_uri": "https://localhost:8080/",
          "height": 516
        },
        "id": "ZH3XuP8z_DgI",
        "outputId": "968f139d-6eea-48d8-de89-d98f00ed3b93"
      },
      "execution_count": 56,
      "outputs": [
        {
          "output_type": "execute_result",
          "data": {
            "text/plain": [
              "    flight_number origin_station_code destination_station_code record_locator  \\\n",
              "9            4635                 ASX                      DEX         BNXXXJ   \n",
              "13           1646                 IAX                      AUX         MMXXPM   \n",
              "15           4749                 HDX                      DEX         LRXXD6   \n",
              "16           4176                 ALX                      EWX         AFXX8D   \n",
              "20           3632                 ORX                      INX         A0XXRT   \n",
              "\n",
              "   scheduled_departure_date  \\\n",
              "9                  9/1/2022   \n",
              "13                 9/1/2022   \n",
              "15                 9/1/2022   \n",
              "16                 9/1/2022   \n",
              "20                 9/1/2022   \n",
              "\n",
              "                                        question_text score satisfaction_type  \\\n",
              "9   How satisfied were you with the food & beverag...     3      Dissatisfied   \n",
              "13  How satisfied were you with the food & beverag...     1      Dissatisfied   \n",
              "15  How satisfied were you with the food & beverag...     2      Dissatisfied   \n",
              "16  How satisfied were you with the food & beverag...     3      Dissatisfied   \n",
              "20  How satisfied were you with the food & beverag...     1      Dissatisfied   \n",
              "\n",
              "   driver_sub_group1               driver_sub_group2  ...  \\\n",
              "9    food & beverage  food and beverage satisfaction  ...   \n",
              "13   food & beverage  food and beverage satisfaction  ...   \n",
              "15   food & beverage  food and beverage satisfaction  ...   \n",
              "16   food & beverage  food and beverage satisfaction  ...   \n",
              "20   food & beverage  food and beverage satisfaction  ...   \n",
              "\n",
              "    equipment_type_code ua_uax actual_flown_miles haul_type departure_gate  \\\n",
              "9                   CR7    UAX                126     Short              3   \n",
              "13                  73Y     UA                141     Short            C45   \n",
              "15                  E7Q    UAX                142     Short              3   \n",
              "16                  C5G    UAX                143     Short             A4   \n",
              "20                  E7R    UAX                177     Short             C7   \n",
              "\n",
              "    arrival_gate international_domestic_indicator response_group  \\\n",
              "9            B55                         Domestic         member   \n",
              "13            27                         Domestic         member   \n",
              "15           A77                         Domestic         member   \n",
              "16           A28                         Domestic         member   \n",
              "20           A24                         Domestic         member   \n",
              "\n",
              "   media_provider        hub_spoke  \n",
              "9            GOGO  spoke departure  \n",
              "13         THALES    hub departure  \n",
              "15           GOGO  spoke departure  \n",
              "16           GOGO  spoke departure  \n",
              "20           GOGO    hub departure  \n",
              "\n",
              "[5 rows x 31 columns]"
            ],
            "text/html": [
              "\n",
              "  <div id=\"df-7006e431-8304-45ce-b99e-b00183e9bb2d\" class=\"colab-df-container\">\n",
              "    <div>\n",
              "<style scoped>\n",
              "    .dataframe tbody tr th:only-of-type {\n",
              "        vertical-align: middle;\n",
              "    }\n",
              "\n",
              "    .dataframe tbody tr th {\n",
              "        vertical-align: top;\n",
              "    }\n",
              "\n",
              "    .dataframe thead th {\n",
              "        text-align: right;\n",
              "    }\n",
              "</style>\n",
              "<table border=\"1\" class=\"dataframe\">\n",
              "  <thead>\n",
              "    <tr style=\"text-align: right;\">\n",
              "      <th></th>\n",
              "      <th>flight_number</th>\n",
              "      <th>origin_station_code</th>\n",
              "      <th>destination_station_code</th>\n",
              "      <th>record_locator</th>\n",
              "      <th>scheduled_departure_date</th>\n",
              "      <th>question_text</th>\n",
              "      <th>score</th>\n",
              "      <th>satisfaction_type</th>\n",
              "      <th>driver_sub_group1</th>\n",
              "      <th>driver_sub_group2</th>\n",
              "      <th>...</th>\n",
              "      <th>equipment_type_code</th>\n",
              "      <th>ua_uax</th>\n",
              "      <th>actual_flown_miles</th>\n",
              "      <th>haul_type</th>\n",
              "      <th>departure_gate</th>\n",
              "      <th>arrival_gate</th>\n",
              "      <th>international_domestic_indicator</th>\n",
              "      <th>response_group</th>\n",
              "      <th>media_provider</th>\n",
              "      <th>hub_spoke</th>\n",
              "    </tr>\n",
              "  </thead>\n",
              "  <tbody>\n",
              "    <tr>\n",
              "      <th>9</th>\n",
              "      <td>4635</td>\n",
              "      <td>ASX</td>\n",
              "      <td>DEX</td>\n",
              "      <td>BNXXXJ</td>\n",
              "      <td>9/1/2022</td>\n",
              "      <td>How satisfied were you with the food &amp; beverag...</td>\n",
              "      <td>3</td>\n",
              "      <td>Dissatisfied</td>\n",
              "      <td>food &amp; beverage</td>\n",
              "      <td>food and beverage satisfaction</td>\n",
              "      <td>...</td>\n",
              "      <td>CR7</td>\n",
              "      <td>UAX</td>\n",
              "      <td>126</td>\n",
              "      <td>Short</td>\n",
              "      <td>3</td>\n",
              "      <td>B55</td>\n",
              "      <td>Domestic</td>\n",
              "      <td>member</td>\n",
              "      <td>GOGO</td>\n",
              "      <td>spoke departure</td>\n",
              "    </tr>\n",
              "    <tr>\n",
              "      <th>13</th>\n",
              "      <td>1646</td>\n",
              "      <td>IAX</td>\n",
              "      <td>AUX</td>\n",
              "      <td>MMXXPM</td>\n",
              "      <td>9/1/2022</td>\n",
              "      <td>How satisfied were you with the food &amp; beverag...</td>\n",
              "      <td>1</td>\n",
              "      <td>Dissatisfied</td>\n",
              "      <td>food &amp; beverage</td>\n",
              "      <td>food and beverage satisfaction</td>\n",
              "      <td>...</td>\n",
              "      <td>73Y</td>\n",
              "      <td>UA</td>\n",
              "      <td>141</td>\n",
              "      <td>Short</td>\n",
              "      <td>C45</td>\n",
              "      <td>27</td>\n",
              "      <td>Domestic</td>\n",
              "      <td>member</td>\n",
              "      <td>THALES</td>\n",
              "      <td>hub departure</td>\n",
              "    </tr>\n",
              "    <tr>\n",
              "      <th>15</th>\n",
              "      <td>4749</td>\n",
              "      <td>HDX</td>\n",
              "      <td>DEX</td>\n",
              "      <td>LRXXD6</td>\n",
              "      <td>9/1/2022</td>\n",
              "      <td>How satisfied were you with the food &amp; beverag...</td>\n",
              "      <td>2</td>\n",
              "      <td>Dissatisfied</td>\n",
              "      <td>food &amp; beverage</td>\n",
              "      <td>food and beverage satisfaction</td>\n",
              "      <td>...</td>\n",
              "      <td>E7Q</td>\n",
              "      <td>UAX</td>\n",
              "      <td>142</td>\n",
              "      <td>Short</td>\n",
              "      <td>3</td>\n",
              "      <td>A77</td>\n",
              "      <td>Domestic</td>\n",
              "      <td>member</td>\n",
              "      <td>GOGO</td>\n",
              "      <td>spoke departure</td>\n",
              "    </tr>\n",
              "    <tr>\n",
              "      <th>16</th>\n",
              "      <td>4176</td>\n",
              "      <td>ALX</td>\n",
              "      <td>EWX</td>\n",
              "      <td>AFXX8D</td>\n",
              "      <td>9/1/2022</td>\n",
              "      <td>How satisfied were you with the food &amp; beverag...</td>\n",
              "      <td>3</td>\n",
              "      <td>Dissatisfied</td>\n",
              "      <td>food &amp; beverage</td>\n",
              "      <td>food and beverage satisfaction</td>\n",
              "      <td>...</td>\n",
              "      <td>C5G</td>\n",
              "      <td>UAX</td>\n",
              "      <td>143</td>\n",
              "      <td>Short</td>\n",
              "      <td>A4</td>\n",
              "      <td>A28</td>\n",
              "      <td>Domestic</td>\n",
              "      <td>member</td>\n",
              "      <td>GOGO</td>\n",
              "      <td>spoke departure</td>\n",
              "    </tr>\n",
              "    <tr>\n",
              "      <th>20</th>\n",
              "      <td>3632</td>\n",
              "      <td>ORX</td>\n",
              "      <td>INX</td>\n",
              "      <td>A0XXRT</td>\n",
              "      <td>9/1/2022</td>\n",
              "      <td>How satisfied were you with the food &amp; beverag...</td>\n",
              "      <td>1</td>\n",
              "      <td>Dissatisfied</td>\n",
              "      <td>food &amp; beverage</td>\n",
              "      <td>food and beverage satisfaction</td>\n",
              "      <td>...</td>\n",
              "      <td>E7R</td>\n",
              "      <td>UAX</td>\n",
              "      <td>177</td>\n",
              "      <td>Short</td>\n",
              "      <td>C7</td>\n",
              "      <td>A24</td>\n",
              "      <td>Domestic</td>\n",
              "      <td>member</td>\n",
              "      <td>GOGO</td>\n",
              "      <td>hub departure</td>\n",
              "    </tr>\n",
              "  </tbody>\n",
              "</table>\n",
              "<p>5 rows × 31 columns</p>\n",
              "</div>\n",
              "    <div class=\"colab-df-buttons\">\n",
              "\n",
              "  <div class=\"colab-df-container\">\n",
              "    <button class=\"colab-df-convert\" onclick=\"convertToInteractive('df-7006e431-8304-45ce-b99e-b00183e9bb2d')\"\n",
              "            title=\"Convert this dataframe to an interactive table.\"\n",
              "            style=\"display:none;\">\n",
              "\n",
              "  <svg xmlns=\"http://www.w3.org/2000/svg\" height=\"24px\" viewBox=\"0 -960 960 960\">\n",
              "    <path d=\"M120-120v-720h720v720H120Zm60-500h600v-160H180v160Zm220 220h160v-160H400v160Zm0 220h160v-160H400v160ZM180-400h160v-160H180v160Zm440 0h160v-160H620v160ZM180-180h160v-160H180v160Zm440 0h160v-160H620v160Z\"/>\n",
              "  </svg>\n",
              "    </button>\n",
              "\n",
              "  <style>\n",
              "    .colab-df-container {\n",
              "      display:flex;\n",
              "      gap: 12px;\n",
              "    }\n",
              "\n",
              "    .colab-df-convert {\n",
              "      background-color: #E8F0FE;\n",
              "      border: none;\n",
              "      border-radius: 50%;\n",
              "      cursor: pointer;\n",
              "      display: none;\n",
              "      fill: #1967D2;\n",
              "      height: 32px;\n",
              "      padding: 0 0 0 0;\n",
              "      width: 32px;\n",
              "    }\n",
              "\n",
              "    .colab-df-convert:hover {\n",
              "      background-color: #E2EBFA;\n",
              "      box-shadow: 0px 1px 2px rgba(60, 64, 67, 0.3), 0px 1px 3px 1px rgba(60, 64, 67, 0.15);\n",
              "      fill: #174EA6;\n",
              "    }\n",
              "\n",
              "    .colab-df-buttons div {\n",
              "      margin-bottom: 4px;\n",
              "    }\n",
              "\n",
              "    [theme=dark] .colab-df-convert {\n",
              "      background-color: #3B4455;\n",
              "      fill: #D2E3FC;\n",
              "    }\n",
              "\n",
              "    [theme=dark] .colab-df-convert:hover {\n",
              "      background-color: #434B5C;\n",
              "      box-shadow: 0px 1px 3px 1px rgba(0, 0, 0, 0.15);\n",
              "      filter: drop-shadow(0px 1px 2px rgba(0, 0, 0, 0.3));\n",
              "      fill: #FFFFFF;\n",
              "    }\n",
              "  </style>\n",
              "\n",
              "    <script>\n",
              "      const buttonEl =\n",
              "        document.querySelector('#df-7006e431-8304-45ce-b99e-b00183e9bb2d button.colab-df-convert');\n",
              "      buttonEl.style.display =\n",
              "        google.colab.kernel.accessAllowed ? 'block' : 'none';\n",
              "\n",
              "      async function convertToInteractive(key) {\n",
              "        const element = document.querySelector('#df-7006e431-8304-45ce-b99e-b00183e9bb2d');\n",
              "        const dataTable =\n",
              "          await google.colab.kernel.invokeFunction('convertToInteractive',\n",
              "                                                    [key], {});\n",
              "        if (!dataTable) return;\n",
              "\n",
              "        const docLinkHtml = 'Like what you see? Visit the ' +\n",
              "          '<a target=\"_blank\" href=https://colab.research.google.com/notebooks/data_table.ipynb>data table notebook</a>'\n",
              "          + ' to learn more about interactive tables.';\n",
              "        element.innerHTML = '';\n",
              "        dataTable['output_type'] = 'display_data';\n",
              "        await google.colab.output.renderOutput(dataTable, element);\n",
              "        const docLink = document.createElement('div');\n",
              "        docLink.innerHTML = docLinkHtml;\n",
              "        element.appendChild(docLink);\n",
              "      }\n",
              "    </script>\n",
              "  </div>\n",
              "\n",
              "\n",
              "<div id=\"df-333fda0d-d8e9-41ae-801c-09850e88a9aa\">\n",
              "  <button class=\"colab-df-quickchart\" onclick=\"quickchart('df-333fda0d-d8e9-41ae-801c-09850e88a9aa')\"\n",
              "            title=\"Suggest charts.\"\n",
              "            style=\"display:none;\">\n",
              "\n",
              "<svg xmlns=\"http://www.w3.org/2000/svg\" height=\"24px\"viewBox=\"0 0 24 24\"\n",
              "     width=\"24px\">\n",
              "    <g>\n",
              "        <path d=\"M19 3H5c-1.1 0-2 .9-2 2v14c0 1.1.9 2 2 2h14c1.1 0 2-.9 2-2V5c0-1.1-.9-2-2-2zM9 17H7v-7h2v7zm4 0h-2V7h2v10zm4 0h-2v-4h2v4z\"/>\n",
              "    </g>\n",
              "</svg>\n",
              "  </button>\n",
              "\n",
              "<style>\n",
              "  .colab-df-quickchart {\n",
              "    background-color: #E8F0FE;\n",
              "    border: none;\n",
              "    border-radius: 50%;\n",
              "    cursor: pointer;\n",
              "    display: none;\n",
              "    fill: #1967D2;\n",
              "    height: 32px;\n",
              "    padding: 0 0 0 0;\n",
              "    width: 32px;\n",
              "  }\n",
              "\n",
              "  .colab-df-quickchart:hover {\n",
              "    background-color: #E2EBFA;\n",
              "    box-shadow: 0px 1px 2px rgba(60, 64, 67, 0.3), 0px 1px 3px 1px rgba(60, 64, 67, 0.15);\n",
              "    fill: #174EA6;\n",
              "  }\n",
              "\n",
              "  [theme=dark] .colab-df-quickchart {\n",
              "    background-color: #3B4455;\n",
              "    fill: #D2E3FC;\n",
              "  }\n",
              "\n",
              "  [theme=dark] .colab-df-quickchart:hover {\n",
              "    background-color: #434B5C;\n",
              "    box-shadow: 0px 1px 3px 1px rgba(0, 0, 0, 0.15);\n",
              "    filter: drop-shadow(0px 1px 2px rgba(0, 0, 0, 0.3));\n",
              "    fill: #FFFFFF;\n",
              "  }\n",
              "</style>\n",
              "\n",
              "  <script>\n",
              "    async function quickchart(key) {\n",
              "      const charts = await google.colab.kernel.invokeFunction(\n",
              "          'suggestCharts', [key], {});\n",
              "    }\n",
              "    (() => {\n",
              "      let quickchartButtonEl =\n",
              "        document.querySelector('#df-333fda0d-d8e9-41ae-801c-09850e88a9aa button');\n",
              "      quickchartButtonEl.style.display =\n",
              "        google.colab.kernel.accessAllowed ? 'block' : 'none';\n",
              "    })();\n",
              "  </script>\n",
              "</div>\n",
              "    </div>\n",
              "  </div>\n"
            ]
          },
          "metadata": {},
          "execution_count": 56
        }
      ]
    },
    {
      "cell_type": "code",
      "source": [
        "'''data4['month'] = data4['scheduled_departure_date'].dt.month\n",
        "data4 = data4['month'].isin([3,4,5,6, 7, 8,9])'''"
      ],
      "metadata": {
        "colab": {
          "base_uri": "https://localhost:8080/",
          "height": 36
        },
        "id": "hBoffERT_fQM",
        "outputId": "81137999-6f5d-4570-b1e7-b14f65607434"
      },
      "execution_count": 57,
      "outputs": [
        {
          "output_type": "execute_result",
          "data": {
            "text/plain": [
              "\"data4['month'] = data4['scheduled_departure_date'].dt.month\\ndata4 = data4['month'].isin([3,4,5,6, 7, 8,9])\""
            ],
            "application/vnd.google.colaboratory.intrinsic+json": {
              "type": "string"
            }
          },
          "metadata": {},
          "execution_count": 57
        }
      ]
    },
    {
      "cell_type": "code",
      "source": [
        "print(data4['driver_sub_group1'].value_counts())\n",
        "print(data4['driver_sub_group2'].value_counts())"
      ],
      "metadata": {
        "colab": {
          "base_uri": "https://localhost:8080/"
        },
        "id": "5RE20MGvBAwm",
        "outputId": "39692bc6-a0fb-4a89-af29-69283b25e00a"
      },
      "execution_count": 58,
      "outputs": [
        {
          "output_type": "stream",
          "name": "stdout",
          "text": [
            "food & beverage    14032\n",
            "Name: driver_sub_group1, dtype: int64\n",
            "food and beverage satisfaction    14032\n",
            "Name: driver_sub_group2, dtype: int64\n"
          ]
        }
      ]
    },
    {
      "cell_type": "code",
      "source": [
        "data4['arrival_delay_group'].value_counts()"
      ],
      "metadata": {
        "colab": {
          "base_uri": "https://localhost:8080/"
        },
        "id": "PF9-rTwvC1sC",
        "outputId": "c8edb19a-10fc-482e-f18f-7d284fdd2a5f"
      },
      "execution_count": 59,
      "outputs": [
        {
          "output_type": "execute_result",
          "data": {
            "text/plain": [
              "Early & Ontime    9865\n",
              "Delayed           4167\n",
              "Name: arrival_delay_group, dtype: int64"
            ]
          },
          "metadata": {},
          "execution_count": 59
        }
      ]
    },
    {
      "cell_type": "markdown",
      "source": [
        "4167 (29% of total) flights got delayed.\n",
        "9865 (71% of total) flights were either early or ontime."
      ],
      "metadata": {
        "id": "W4n7NHKZC-9l"
      }
    },
    {
      "cell_type": "code",
      "source": [
        "data4['satisfaction_status'] = data4['satisfaction_type'].apply(lambda x: 0 if x == 'Satisfied' else 1)\n",
        "data4['satisfaction_status'].value_counts()"
      ],
      "metadata": {
        "colab": {
          "base_uri": "https://localhost:8080/"
        },
        "id": "h58QVL2BDS_o",
        "outputId": "2998bb74-6216-402d-d6c4-456eef9430a7"
      },
      "execution_count": 60,
      "outputs": [
        {
          "output_type": "execute_result",
          "data": {
            "text/plain": [
              "1    9265\n",
              "0    4767\n",
              "Name: satisfaction_status, dtype: int64"
            ]
          },
          "metadata": {},
          "execution_count": 60
        }
      ]
    },
    {
      "cell_type": "code",
      "source": [
        "data4['loyalty_program_level'].value_counts()"
      ],
      "metadata": {
        "colab": {
          "base_uri": "https://localhost:8080/"
        },
        "id": "vqjtDDZvGgkw",
        "outputId": "e0a88bd9-5e63-47a1-aa22-03528ae88500"
      },
      "execution_count": 61,
      "outputs": [
        {
          "output_type": "execute_result",
          "data": {
            "text/plain": [
              "non-elite           9984\n",
              "premier silver      1609\n",
              "premier gold        1013\n",
              "premier 1k           764\n",
              "premier platinum     608\n",
              "global services       51\n",
              "NBK                    3\n",
              "Name: loyalty_program_level, dtype: int64"
            ]
          },
          "metadata": {},
          "execution_count": 61
        }
      ]
    },
    {
      "cell_type": "code",
      "source": [
        "count_premier_gold_dissatisfied = data4[(data4['loyalty_program_level'] == 'premier gold') & (data4['satisfaction_status'] == 1)].shape[0]\n",
        "print(count_premier_gold_dissatisfied)\n",
        "\n",
        "count_premier_silver_dissatisfied = data4[(data4['loyalty_program_level'] == 'premier silver') & (data4['satisfaction_status'] == 1)].shape[0]\n",
        "print(count_premier_silver_dissatisfied)\n",
        "\n",
        "count_premier_platinum_dissatisfied = data4[(data4['loyalty_program_level'] == 'premier platinum') & (data4['satisfaction_status'] == 1)].shape[0]\n",
        "print(count_premier_platinum_dissatisfied)\n",
        "\n",
        "count_premier_1k_dissatisfied = data4[(data4['loyalty_program_level'] == 'premier 1k') & (data4['satisfaction_status'] == 1)].shape[0]\n",
        "print(count_premier_1k_dissatisfied)\n",
        "\n",
        "count_premier_nonelite_dissatisfied = data4[(data4['loyalty_program_level'] == 'non-elite') & (data4['satisfaction_status'] == 1)].shape[0]\n",
        "print(count_premier_nonelite_dissatisfied)"
      ],
      "metadata": {
        "colab": {
          "base_uri": "https://localhost:8080/"
        },
        "id": "AbtGvK59FM9U",
        "outputId": "a910a2d3-bd94-4608-c3ae-dbe26ce47b71"
      },
      "execution_count": 62,
      "outputs": [
        {
          "output_type": "stream",
          "name": "stdout",
          "text": [
            "681\n",
            "1073\n",
            "437\n",
            "526\n",
            "6508\n"
          ]
        }
      ]
    },
    {
      "cell_type": "markdown",
      "source": [
        "It is evident that there are dissatisfied members/customers in all levels of the loyalty program.\n",
        "\n",
        "```\n",
        "```\n",
        "\n"
      ],
      "metadata": {
        "id": "0Z4emNQnJBIg"
      }
    },
    {
      "cell_type": "code",
      "source": [
        "data4['international_domestic_indicator'].value_counts()"
      ],
      "metadata": {
        "colab": {
          "base_uri": "https://localhost:8080/"
        },
        "id": "mEae1BiiK3Lq",
        "outputId": "0152b83b-dfe9-43a2-80b4-7c9b5a52b302"
      },
      "execution_count": 63,
      "outputs": [
        {
          "output_type": "execute_result",
          "data": {
            "text/plain": [
              "Domestic         9787\n",
              "International    4245\n",
              "Name: international_domestic_indicator, dtype: int64"
            ]
          },
          "metadata": {},
          "execution_count": 63
        }
      ]
    },
    {
      "cell_type": "markdown",
      "source": [
        "The airline has more domestic customers and less international customers."
      ],
      "metadata": {
        "id": "OoBCgt6-K_7_"
      }
    },
    {
      "cell_type": "code",
      "source": [
        "count_domestic_dissatisfied = data4[(data4['international_domestic_indicator'] == 'Domestic') & (data4['satisfaction_status'] == 1)].shape[0]\n",
        "print(count_domestic_dissatisfied)"
      ],
      "metadata": {
        "colab": {
          "base_uri": "https://localhost:8080/"
        },
        "id": "0U4r2dMWI7w7",
        "outputId": "41b3158a-c24b-48c1-c832-ada59d528776"
      },
      "execution_count": 64,
      "outputs": [
        {
          "output_type": "stream",
          "name": "stdout",
          "text": [
            "6379\n"
          ]
        }
      ]
    },
    {
      "cell_type": "markdown",
      "source": [
        "Nearly 2/3rd of the domestic customers are dissatisfied."
      ],
      "metadata": {
        "id": "AMzRFzc5LOk4"
      }
    },
    {
      "cell_type": "code",
      "source": [
        "data3_c = data3\n",
        "negative_keywords = ['not satisfied', 'disappointed', 'bad experience', 'poor service', 'unhappy','should']\n",
        "negative_comments = data3_c[data3_c['verbatim_text'].str.contains('|'.join(negative_keywords), case=False)]\n",
        "data3_c['verbatim_text'].value_counts()"
      ],
      "metadata": {
        "colab": {
          "base_uri": "https://localhost:8080/"
        },
        "id": "13Su5VMaLVJc",
        "outputId": "6e582b82-03b3-49e5-d874-48d7a1a9df4d"
      },
      "execution_count": 65,
      "outputs": [
        {
          "output_type": "execute_result",
          "data": {
            "text/plain": [
              "No.                                                                                                                                                                                                        491\n",
              "no.                                                                                                                                                                                                         81\n",
              "None.                                                                                                                                                                                                       41\n",
              "N/A.                                                                                                                                                                                                        19\n",
              "Nothing.                                                                                                                                                                                                    11\n",
              "                                                                                                                                                                                                          ... \n",
              "All meals/snacks were good.                                                                                                                                                                                  1\n",
              "The overnight oats recipe was too busy with stuff--chia seeds, banana, coconut and chocolate chips. While they should have worked well together, it did not quite taste harmonious.                          1\n",
              "Would like if they asked a second time on longer flights.                                                                                                                                                    1\n",
              "I LOVE that you offer great variety of drinks. Thanks!. I would LOVE that you offer snacks and have a sweet and salty option. I would love a change as pretzels and cookies is strange on a 6am flight.      1\n",
              "My flight attendant missed my drink order 2x and in the end never received the drink I requested. At that point, we were getting ready to land and it did not matter.                                        1\n",
              "Name: verbatim_text, Length: 6099, dtype: int64"
            ]
          },
          "metadata": {},
          "execution_count": 65
        }
      ]
    },
    {
      "cell_type": "code",
      "source": [
        "print(negative_comments['verbatim_text'])"
      ],
      "metadata": {
        "colab": {
          "base_uri": "https://localhost:8080/"
        },
        "id": "FeXSoOkPPGhd",
        "outputId": "c97cc655-5031-4830-f038-d919b1d40bd8"
      },
      "execution_count": 66,
      "outputs": [
        {
          "output_type": "stream",
          "name": "stdout",
          "text": [
            "9       I thought a 3rd entree should be offered. no r...\n",
            "36      on our return flight we were asked to choose e...\n",
            "61      should give out bottles of water vs cups on a ...\n",
            "66      Tje Brioche cheeseburger is really good, but k...\n",
            "83      The only beers available were Ultra Lite and S...\n",
            "                              ...                        \n",
            "9304    It took too long to serve the beverages and wa...\n",
            "9311    A 6 hour flight is long haul. Food should be p...\n",
            "9377    Disappointed to have no choice of food conside...\n",
            "9393    United should allow business/first passengers ...\n",
            "9403    The dinner roll was hard and tough. It should ...\n",
            "Name: verbatim_text, Length: 450, dtype: object\n"
          ]
        }
      ]
    },
    {
      "cell_type": "markdown",
      "source": [
        "Through the negative comments obtained from the customers, it is evident that for oders that were not pre-booked (orders not under the category of pre-orders), the food & beverage staffs take quite a long time to respond. So waiting time was high.\n",
        "\n",
        "Variety of food items in terms of snacks and beverages such as beers is less.\n",
        "\n",
        "Some Customers are also demanding water in bottles instead of cups.\n",
        "\n",
        "Orders under the category of pre-oder are delivered well within time.\n",
        "Customers who pre-order their meals have a better satisfaction rate compared to those who do not. However,only a small fraction of travelers prebook meals at this point."
      ],
      "metadata": {
        "id": "PqPVVYGrTJjU"
      }
    },
    {
      "cell_type": "code",
      "source": [
        "sns.boxplot(y='satisfaction_status', data=data4)\n",
        "plt.xlabel('satisfaction_status')\n",
        "plt.title('Box Plot of Satisfaction')\n",
        "plt.show()"
      ],
      "metadata": {
        "colab": {
          "base_uri": "https://localhost:8080/",
          "height": 458
        },
        "id": "TDTzA0AHfn-0",
        "outputId": "4f9ace97-8d55-48be-c917-2be7e4536cb9"
      },
      "execution_count": 70,
      "outputs": [
        {
          "output_type": "display_data",
          "data": {
            "text/plain": [
              "<Figure size 640x480 with 1 Axes>"
            ],
            "image/png": "[encoded data removed]"
          },
          "metadata": {}
        }
      ]
    },
    {
      "cell_type": "code",
      "source": [
        "data4['score'] = pd.to_numeric(data4['score'], errors='coerce')\n",
        "data4_cleaned = data4.dropna(subset=['score'])"
      ],
      "metadata": {
        "id": "ZfDrQwMLjAiF"
      },
      "execution_count": 71,
      "outputs": []
    },
    {
      "cell_type": "code",
      "source": [
        "sns.boxplot(y='score', data=data4)"
      ],
      "metadata": {
        "colab": {
          "base_uri": "https://localhost:8080/",
          "height": 428
        },
        "id": "5uAk1z-NjUDQ",
        "outputId": "4617a5f9-63a4-433c-c42f-e80fbdcfd14f"
      },
      "execution_count": 72,
      "outputs": [
        {
          "output_type": "execute_result",
          "data": {
            "text/plain": [
              "<Axes: ylabel='score'>"
            ]
          },
          "metadata": {},
          "execution_count": 72
        },
        {
          "output_type": "display_data",
          "data": {
            "text/plain": [
              "<Figure size 640x480 with 1 Axes>"
            ],
            "image/png": "[encoded data removed]"
          },
          "metadata": {}
        }
      ]
    },
    {
      "cell_type": "code",
      "source": [
        "correlation = data4['score'].corr(data4['satisfaction_status'])\n",
        "print(correlation)"
      ],
      "metadata": {
        "colab": {
          "base_uri": "https://localhost:8080/"
        },
        "id": "fkYL8KhwjhUl",
        "outputId": "0126b19e-e5fb-41b8-fc65-344c57a7882d"
      },
      "execution_count": 74,
      "outputs": [
        {
          "output_type": "stream",
          "name": "stdout",
          "text": [
            "-0.8584036727680153\n"
          ]
        }
      ]
    },
    {
      "cell_type": "code",
      "source": [
        "'''negative_comments['verbatim_text']\n",
        "negative_comments['score']'''\n",
        "\n",
        "'''\n",
        "import scipy.stats as stats\n",
        "\n",
        "correlation, p_value = stats.pointbiserialr(negative_comments['verbatim_text'], negative_comments['score'])\n",
        "\n",
        "print(\"Point-Biserial Correlation:\", correlation)\n",
        "print(\"p-value:\", p_value)\n",
        "'''"
      ],
      "metadata": {
        "colab": {
          "base_uri": "https://localhost:8080/",
          "height": 53
        },
        "id": "yV5v8qH9k3m-",
        "outputId": "ad96ecf1-fe0e-478a-d5d4-b7b2772af3ec"
      },
      "execution_count": 76,
      "outputs": [
        {
          "output_type": "execute_result",
          "data": {
            "text/plain": [
              "'\\nimport scipy.stats as stats\\n\\ncorrelation, p_value = stats.pointbiserialr(negative_comments[\\'verbatim_text\\'], negative_comments[\\'score\\'])\\n\\nprint(\"Point-Biserial Correlation:\", correlation)\\nprint(\"p-value:\", p_value)\\n'"
            ],
            "application/vnd.google.colaboratory.intrinsic+json": {
              "type": "string"
            }
          },
          "metadata": {},
          "execution_count": 76
        }
      ]
    }
  ]
}